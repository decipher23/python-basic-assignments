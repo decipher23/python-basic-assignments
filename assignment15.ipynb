{
 "cells": [
  {
   "cell_type": "code",
   "execution_count": 1,
   "id": "388000e5",
   "metadata": {},
   "outputs": [
    {
     "name": "stdout",
     "output_type": "stream",
     "text": [
      "0 35 70 "
     ]
    }
   ],
   "source": [
    "# 1. Please write a program using generator to print the numbers which can be divisible by 5 and 7\n",
    "# between 0 and n in comma separated form while n is input by console ?\n",
    "def showDivisible(in_num):\n",
    "    for ele in range(0,in_num):\n",
    "        if (ele%5 == 0) and (ele%7 == 0):\n",
    "            yield ele\n",
    "for ele in showDivisible(100):\n",
    "    print(ele,end=' ')"
   ]
  },
  {
   "cell_type": "code",
   "execution_count": 2,
   "id": "08c8542d",
   "metadata": {},
   "outputs": [
    {
     "name": "stdout",
     "output_type": "stream",
     "text": [
      "0 2 4 6 8 10 "
     ]
    }
   ],
   "source": [
    "# 2.Please write a program using generator to print the even numbers \n",
    "# between 0 and n in comma separated form while n is input by console ?\n",
    "def genEvenNumbers(in_num):\n",
    "    for ele in range(in_num+1):\n",
    "        if ele%2 == 0:\n",
    "            yield ele\n",
    "\n",
    "for ele in genEvenNumbers(10):\n",
    "    print(ele,end=' ')"
   ]
  },
  {
   "cell_type": "code",
   "execution_count": 3,
   "id": "e4af9de6",
   "metadata": {},
   "outputs": [
    {
     "name": "stdout",
     "output_type": "stream",
     "text": [
      "[0, 1, 1, 2, 3, 5, 8, 13, 21, 34, 55, 89, 144, 233, 377, 610, 987, 1597, 2584, 4181]\n"
     ]
    }
   ],
   "source": [
    "# 3.The Fibonacci Sequence is computed based on the following formula below, Please write \n",
    "# a program using list comprehension to print the Fibonacci Sequence\n",
    "# in comma separated form with a given n input by console ?\n",
    "def genFibonaci(in_num):\n",
    "    if in_num == 0:\n",
    "        return 0\n",
    "    elif in_num == 1:\n",
    "        return 1\n",
    "    else:\n",
    "        return genFibonaci(in_num-1)+genFibonaci(in_num-2)\n",
    "    \n",
    "print([genFibonaci(x) for x in range(20)])"
   ]
  },
  {
   "cell_type": "code",
   "execution_count": 5,
   "id": "36cae14a",
   "metadata": {},
   "outputs": [
    {
     "name": "stdout",
     "output_type": "stream",
     "text": [
      "2500\n"
     ]
    }
   ],
   "source": [
    "# 5.Define a class named Shape and its subclass Square. The Square class has an init function which \n",
    "# takes a length as argument. Both classes have a area function which can \n",
    "# print the area of the shape where Shape's area is 0 by default.\n",
    "class Shape:\n",
    "    def area(self):\n",
    "        return 0\n",
    "\n",
    "class Square(Shape):\n",
    "    def __init__(self, length):\n",
    "        self.length = length\n",
    "    def area(self):\n",
    "        return self.length*self.length\n",
    "\n",
    "square = Square(50)\n",
    "print(square.area())"
   ]
  },
  {
   "cell_type": "code",
   "execution_count": null,
   "id": "c240b3c3",
   "metadata": {},
   "outputs": [],
   "source": [
    "\n"
   ]
  }
 ],
 "metadata": {
  "kernelspec": {
   "display_name": "Python 3",
   "language": "python",
   "name": "python3"
  },
  "language_info": {
   "codemirror_mode": {
    "name": "ipython",
    "version": 3
   },
   "file_extension": ".py",
   "mimetype": "text/x-python",
   "name": "python",
   "nbconvert_exporter": "python",
   "pygments_lexer": "ipython3",
   "version": "3.8.8"
  }
 },
 "nbformat": 4,
 "nbformat_minor": 5
}
