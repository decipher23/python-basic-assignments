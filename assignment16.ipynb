{
 "cells": [
  {
   "cell_type": "code",
   "execution_count": 1,
   "id": "db3afa92",
   "metadata": {},
   "outputs": [
    {
     "name": "stdout",
     "output_type": "stream",
     "text": [
      "Enter the Word :popp\n",
      "popp ➞ po... po... popp?\n",
      "Enter the Word :usjs\n",
      "usjs ➞ us... us... usjs?\n",
      "Enter the Word :jsjhsksk\n",
      "jsjhsksk ➞ js... js... jsjhsksk?\n"
     ]
    }
   ],
   "source": [
    "# Question1. Write a function that stutters a word as if someone is struggling to read it. The\n",
    "# first two letters are repeated twice with an ellipsis ... and space after each, and then the\n",
    "# word is pronounced with a question mark ?.\n",
    "def stutterWord():\n",
    "    in_string = input('Enter the Word :')\n",
    "    out_string = in_string.replace(in_string[0:2],((in_string[0:2]+'... ')*2)+ in_string[0:2])  +'?'\n",
    "    print(f'{in_string} ➞ {out_string}')\n",
    "\n",
    "for i in range(3):\n",
    "    stutterWord()"
   ]
  },
  {
   "cell_type": "code",
   "execution_count": 2,
   "id": "5e256c9d",
   "metadata": {},
   "outputs": [
    {
     "name": "stdout",
     "output_type": "stream",
     "text": [
      "Enter the angle in Radians: 8\n",
      "8 radian(s) ➞ 458.4 degrees\n",
      "Enter the angle in Radians: 8997\n",
      "8997 radian(s) ➞ 515490.1 degrees\n",
      "Enter the angle in Radians: 7\n",
      "7 radian(s) ➞ 401.1 degrees\n"
     ]
    }
   ],
   "source": [
    "# 2..Create a function that takes an angle in radians and\n",
    "# returns the corresponding angle in degrees rounded to one decimal place ?\n",
    "import math\n",
    "def radianToDegree():\n",
    "    in_num = int(input('Enter the angle in Radians: '))\n",
    "    out_num = (180/math.pi)*in_num\n",
    "    print(f'{in_num} radian(s) ➞ {out_num:.1f} degrees')\n",
    "\n",
    "for x in range(3):\n",
    "    radianToDegree()"
   ]
  },
  {
   "cell_type": "code",
   "execution_count": 3,
   "id": "aa6d1c6e",
   "metadata": {},
   "outputs": [
    {
     "name": "stdout",
     "output_type": "stream",
     "text": [
      "Enter a number: 9\n",
      "9 is a Curzon Number\n",
      "Enter a number: 9\n",
      "9 is a Curzon Number\n",
      "Enter a number: 9\n",
      "9 is a Curzon Number\n",
      "Enter a number: 9\n",
      "9 is a Curzon Number\n"
     ]
    }
   ],
   "source": [
    "# 3.In this challenge, establish if a given integer num is a Curzon number. If \n",
    "# 1 plus 2 elevated to num is exactly divisible by 1 plus 2 multiplied by num,\n",
    "# then num is a Curzon number. Given a non-negative integer num, implement a function \n",
    "# that returns True if num is a Curzon number, or False otherwise.\n",
    "def checkCurzon():\n",
    "    in_num = int(input(\"Enter a number: \"))\n",
    "    if (pow(2,in_num)+1)%((2*in_num)+1) == 0:\n",
    "        print(f'{in_num} is a Curzon Number')\n",
    "    else:\n",
    "        print(f'{in_num} is Not a Curzon Number')\n",
    "\n",
    "for x in range(4):\n",
    "    checkCurzon()"
   ]
  },
  {
   "cell_type": "code",
   "execution_count": 4,
   "id": "cb7b7c8d",
   "metadata": {},
   "outputs": [
    {
     "name": "stdout",
     "output_type": "stream",
     "text": [
      "Enter the side length of a Hexagon: 8\n",
      "Area for Hexagon of sidelength 8 ➞ 166.3\n",
      "Enter the side length of a Hexagon: 9\n",
      "Area for Hexagon of sidelength 9 ➞ 210.4\n",
      "Enter the side length of a Hexagon: 55\n",
      "Area for Hexagon of sidelength 55 ➞ 7859.2\n"
     ]
    }
   ],
   "source": [
    "# 4.Given the side length x find the area of a hexagon ?\n",
    "import math\n",
    "def areaOfHexagon():\n",
    "    in_num = int(input('Enter the side length of a Hexagon: '))\n",
    "    out_num = ((3*math.sqrt(3))/2)*(pow(in_num,2))\n",
    "    print(f'Area for Hexagon of sidelength {in_num} ➞ {out_num:.1f}')\n",
    "    \n",
    "for x in range(3):\n",
    "    areaOfHexagon()"
   ]
  },
  {
   "cell_type": "code",
   "execution_count": null,
   "id": "589b6dcc",
   "metadata": {},
   "outputs": [],
   "source": [
    "# 5.Create a function that returns a base-2 (binary) representation of a base-10 (decimal) string number. To convert is simple:\n",
    "def getBinary():\n",
    "    in_num = int(input(\"Enter a Number: \"))\n",
    "    out_num = bin(in_num).replace('0b','') \n",
    "    print(f'Binary of {in_num} ➞ {out_num}')\n",
    "\n",
    "for x in range(3):\n",
    "    getBinary()"
   ]
  }
 ],
 "metadata": {
  "kernelspec": {
   "display_name": "Python 3",
   "language": "python",
   "name": "python3"
  },
  "language_info": {
   "codemirror_mode": {
    "name": "ipython",
    "version": 3
   },
   "file_extension": ".py",
   "mimetype": "text/x-python",
   "name": "python",
   "nbconvert_exporter": "python",
   "pygments_lexer": "ipython3",
   "version": "3.8.8"
  }
 },
 "nbformat": 4,
 "nbformat_minor": 5
}
