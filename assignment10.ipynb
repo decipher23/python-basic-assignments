{
 "cells": [
  {
   "cell_type": "code",
   "execution_count": 2,
   "id": "35236a6e",
   "metadata": {},
   "outputs": [
    {
     "name": "stdout",
     "output_type": "stream",
     "text": [
      "133\n"
     ]
    }
   ],
   "source": [
    "# 1. Write a Python program to find sum of elements in list?\n",
    "list1=[3,4,56,70]\n",
    "print(sum(list1))"
   ]
  },
  {
   "cell_type": "code",
   "execution_count": 5,
   "id": "8d1d6acb",
   "metadata": {},
   "outputs": [
    {
     "name": "stdout",
     "output_type": "stream",
     "text": [
      "47040\n"
     ]
    }
   ],
   "source": [
    "# 2. Write a Python program to Multiply all numbers in the list?\n",
    "list1=[3,4,56,70]\n",
    "product=1\n",
    "for i in list1:\n",
    "    product=product*i\n",
    "print(product)    "
   ]
  },
  {
   "cell_type": "code",
   "execution_count": 7,
   "id": "ba1131cc",
   "metadata": {},
   "outputs": [
    {
     "name": "stdout",
     "output_type": "stream",
     "text": [
      "3\n"
     ]
    }
   ],
   "source": [
    "# 3. Write a Python program to find smallest number in a list?\n",
    "list1=[3,4,56,70]\n",
    "print(min(list1))"
   ]
  },
  {
   "cell_type": "code",
   "execution_count": 9,
   "id": "327e7fcb",
   "metadata": {},
   "outputs": [
    {
     "name": "stdout",
     "output_type": "stream",
     "text": [
      "70\n"
     ]
    }
   ],
   "source": [
    "# 4. Write a Python program to find largest number in a list?\n",
    "list1=[3,4,56,70]\n",
    "print(max(list1))"
   ]
  },
  {
   "cell_type": "code",
   "execution_count": 13,
   "id": "48939ad7",
   "metadata": {},
   "outputs": [
    {
     "name": "stdout",
     "output_type": "stream",
     "text": [
      "70\n"
     ]
    }
   ],
   "source": [
    "# 5. Write a Python program to find second largest number in a list?\n",
    "list1=[3,4,101,70]\n",
    "list1=sorted(list1)\n",
    "print(list1[-2])"
   ]
  },
  {
   "cell_type": "code",
   "execution_count": 18,
   "id": "fc2b32bc",
   "metadata": {},
   "outputs": [
    {
     "name": "stdout",
     "output_type": "stream",
     "text": [
      "enter the n number of elements4\n",
      "[56, 70, 77, 89, 101]\n"
     ]
    }
   ],
   "source": [
    "# 6. Write a Python program to find N largest elements from a list?\n",
    "list1=[3,4,101,70,89,9,56,33,77]\n",
    "num=int(input(\"enter the n number of elements\"))\n",
    "list1=sorted(list1)\n",
    "print(list1[num:])"
   ]
  },
  {
   "cell_type": "code",
   "execution_count": 21,
   "id": "def3bd2b",
   "metadata": {},
   "outputs": [
    {
     "name": "stdout",
     "output_type": "stream",
     "text": [
      "4,70,56,"
     ]
    }
   ],
   "source": [
    "# 7. Write a Python program to print even numbers in a list?\n",
    "list1=[3,4,101,70,89,9,56,33,77]\n",
    "for i in list1:\n",
    "    if(i%2==0):\n",
    "        print(i,end=\",\")\n",
    "        \n"
   ]
  },
  {
   "cell_type": "code",
   "execution_count": 23,
   "id": "4204ef61",
   "metadata": {},
   "outputs": [
    {
     "name": "stdout",
     "output_type": "stream",
     "text": [
      "3,101,89,9,33,77,"
     ]
    }
   ],
   "source": [
    "# 8. Write a Python program to print odd numbers in a List?\n",
    "list1=[3,4,101,70,89,9,56,33,77]\n",
    "for i in list1:\n",
    "    if(i%2!=0):\n",
    "        print(i,end=\",\")\n",
    "        \n",
    "\n"
   ]
  },
  {
   "cell_type": "code",
   "execution_count": 26,
   "id": "998c18da",
   "metadata": {},
   "outputs": [
    {
     "name": "stdout",
     "output_type": "stream",
     "text": [
      "3,4,[101],70,89,9,[56, 33, 77],"
     ]
    }
   ],
   "source": [
    "# 9. Write a Python program to Remove empty List from List?\n",
    "list1=[3,4,[101],70,89,9,[56,33,77],[]]\n",
    "for i in list1:\n",
    "    if(i!=[]):\n",
    "        print(i,end=\",\")\n"
   ]
  },
  {
   "cell_type": "code",
   "execution_count": 27,
   "id": "1a213185",
   "metadata": {},
   "outputs": [
    {
     "name": "stdout",
     "output_type": "stream",
     "text": [
      "[3, 4, [101], 70, 89, 9, [56, 33, 77], []]\n"
     ]
    }
   ],
   "source": [
    "# 10. Write a Python program to Cloning or Copying a list?\n",
    "list1=[3,4,[101],70,89,9,[56,33,77],[]]\n",
    "list2=list1.copy()\n",
    "print(list2)"
   ]
  },
  {
   "cell_type": "code",
   "execution_count": 28,
   "id": "289588cf",
   "metadata": {},
   "outputs": [
    {
     "name": "stdout",
     "output_type": "stream",
     "text": [
      "enter the value of the num youwant to know4\n",
      "2\n"
     ]
    }
   ],
   "source": [
    "# 11. Write a Python program to Count occurrences of an element in a list?\n",
    "list1=[1,2,3,1,2,3,1,2,3,4,5,6,4,5,6]\n",
    "num=int(input(\"enter the value of the num youwant to know\"))\n",
    "co=0\n",
    "for i in list1:\n",
    "    if(i==num):\n",
    "        co=co+1\n",
    "print(co)\n",
    "    \n",
    "    "
   ]
  },
  {
   "cell_type": "code",
   "execution_count": null,
   "id": "1cf87757",
   "metadata": {},
   "outputs": [],
   "source": []
  }
 ],
 "metadata": {
  "kernelspec": {
   "display_name": "Python 3",
   "language": "python",
   "name": "python3"
  },
  "language_info": {
   "codemirror_mode": {
    "name": "ipython",
    "version": 3
   },
   "file_extension": ".py",
   "mimetype": "text/x-python",
   "name": "python",
   "nbconvert_exporter": "python",
   "pygments_lexer": "ipython3",
   "version": "3.8.8"
  }
 },
 "nbformat": 4,
 "nbformat_minor": 5
}
