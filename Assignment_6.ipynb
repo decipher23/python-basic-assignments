{
 "cells": [
  {
   "cell_type": "code",
   "execution_count": 13,
   "id": "53077e7b",
   "metadata": {},
   "outputs": [
    {
     "name": "stdout",
     "output_type": "stream",
     "text": [
      "enter the value of num8\n",
      "Fibonacci sequence:\n",
      "0,1,1,2,3,5,8,13,"
     ]
    }
   ],
   "source": [
    "# 1. Write a Python Program to Display Fibonacci Sequence Using Recursion?\n",
    "def recur_fibo(n):\n",
    "    if n <= 1:\n",
    "        return n\n",
    "    else:\n",
    "        return(recur_fibo(n-1) + recur_fibo(n-2))\n",
    "num1=int(input(\"enter the value of num\"))\n",
    "if num1 <= 0:\n",
    "   print(\"Plese enter a positive integer\")\n",
    "else:\n",
    "   print(\"Fibonacci sequence:\")\n",
    "   for i in range(num1):\n",
    "       print(recur_fibo(i),end=\",\")"
   ]
  },
  {
   "cell_type": "code",
   "execution_count": 2,
   "id": "e44ba59a",
   "metadata": {},
   "outputs": [
    {
     "name": "stdout",
     "output_type": "stream",
     "text": [
      "120\n"
     ]
    }
   ],
   "source": [
    "\n",
    "# 2. Write a Python Program to Find Factorial of Number Using Recursion?\n",
    "def rec1(num1):\n",
    "    if(num1==1):\n",
    "        return num1\n",
    "    else:\n",
    "        return rec1(num1-1)*num1\n",
    "print(rec1(5))    "
   ]
  },
  {
   "cell_type": "code",
   "execution_count": 3,
   "id": "27303de7",
   "metadata": {},
   "outputs": [
    {
     "name": "stdout",
     "output_type": "stream",
     "text": [
      "enter the height in metres1.59\n",
      "enter the weight in kg55\n",
      "21.75546853368142\n"
     ]
    }
   ],
   "source": [
    "# 3. Write a Python Program to calculate your Body Mass Index?\n",
    "height=float(input(\"enter the height in metres\"))\n",
    "weight=float(input(\"enter the weight in kg\"))\n",
    "bmi=weight/(height**2)\n",
    "print(bmi)"
   ]
  },
  {
   "cell_type": "code",
   "execution_count": 4,
   "id": "0614bdbf",
   "metadata": {},
   "outputs": [],
   "source": [
    "# 4. Write a Python Program to calculate the natural logarithm of any number?\n",
    "import math\n",
    "number = int(input(\"Enter the number\"))\n",
    "ans = math.log(number)\n",
    "print(ans)"
   ]
  },
  {
   "cell_type": "code",
   "execution_count": 7,
   "id": "3a17278c",
   "metadata": {},
   "outputs": [
    {
     "name": "stdout",
     "output_type": "stream",
     "text": [
      "enter the value of num5\n",
      "1,8,27,64,125,"
     ]
    }
   ],
   "source": [
    "# 5. Write a Python Program for cube sum of first n natural numbers\n",
    "num=int(input(\"enter the value of num\"))\n",
    "for i in range(1,num+1):\n",
    "    print(i**3,end=\",\")\n",
    "    "
   ]
  }
 ],
 "metadata": {
  "kernelspec": {
   "display_name": "Python 3",
   "language": "python",
   "name": "python3"
  },
  "language_info": {
   "codemirror_mode": {
    "name": "ipython",
    "version": 3
   },
   "file_extension": ".py",
   "mimetype": "text/x-python",
   "name": "python",
   "nbconvert_exporter": "python",
   "pygments_lexer": "ipython3",
   "version": "3.8.8"
  }
 },
 "nbformat": 4,
 "nbformat_minor": 5
}
