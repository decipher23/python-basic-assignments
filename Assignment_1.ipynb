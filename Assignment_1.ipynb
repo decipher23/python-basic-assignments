{
 "cells": [
  {
   "cell_type": "code",
   "execution_count": 12,
   "id": "bf89057b",
   "metadata": {},
   "outputs": [
    {
     "name": "stdout",
     "output_type": "stream",
     "text": [
      "Hello Python\n",
      "enter the first num33\n",
      "enter the sec num33\n",
      "66\n",
      "1.0\n"
     ]
    }
   ],
   "source": [
    "# 1.\tWrite a Python program to print \"Hello Python\"?\n",
    "print(\"Hello Python\")\n",
    "# 2.\tWrite a Python program to do arithmetical operations addition and division.?\n",
    "num1=int(input(\"enter the first num\"))\n",
    "num2=int(input(\"enter the sec num\"))\n",
    "add1=print(num1+num2)\n",
    "div1=print(num2/num2)\n",
    "\n",
    "\n"
   ]
  },
  {
   "cell_type": "code",
   "execution_count": 13,
   "id": "94856c10",
   "metadata": {},
   "outputs": [
    {
     "name": "stdout",
     "output_type": "stream",
     "text": [
      "enter the first num33\n",
      "enter the sec num44\n",
      "726.0\n"
     ]
    }
   ],
   "source": [
    "# 3.\tWrite a Python program to find the area of a triangle?\n",
    "base=int(input(\"enter the first num\"))\n",
    "height=int(input(\"enter the sec num\"))\n",
    "\n",
    "area=(0.5)*base*height\n",
    "print(area)"
   ]
  },
  {
   "cell_type": "code",
   "execution_count": 9,
   "id": "279d1616",
   "metadata": {},
   "outputs": [
    {
     "name": "stdout",
     "output_type": "stream",
     "text": [
      "enter the first num3\n",
      "enter the sec num8\n",
      "8 3\n"
     ]
    }
   ],
   "source": [
    "# 4.\tWrite a Python program to swap two variables?\n",
    "num1=int(input(\"enter the first num\"))\n",
    "num2=int(input(\"enter the sec num\"))\n",
    "num1,num2=num2,num1\n",
    "print(num1,num2)\n"
   ]
  },
  {
   "cell_type": "code",
   "execution_count": 16,
   "id": "bbba55c5",
   "metadata": {},
   "outputs": [
    {
     "name": "stdout",
     "output_type": "stream",
     "text": [
      "0.620269419144211\n"
     ]
    }
   ],
   "source": [
    "# 5.\tWrite a Python program to generate a random number?\n",
    "import random \n",
    "n = random.random() \n",
    "print(n)"
   ]
  }
 ],
 "metadata": {
  "kernelspec": {
   "display_name": "Python 3",
   "language": "python",
   "name": "python3"
  },
  "language_info": {
   "codemirror_mode": {
    "name": "ipython",
    "version": 3
   },
   "file_extension": ".py",
   "mimetype": "text/x-python",
   "name": "python",
   "nbconvert_exporter": "python",
   "pygments_lexer": "ipython3",
   "version": "3.8.8"
  }
 },
 "nbformat": 4,
 "nbformat_minor": 5
}
