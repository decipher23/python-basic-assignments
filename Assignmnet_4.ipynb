{
 "cells": [
  {
   "cell_type": "code",
   "execution_count": 3,
   "id": "8f310e78",
   "metadata": {},
   "outputs": [
    {
     "name": "stdout",
     "output_type": "stream",
     "text": [
      "enter the num5\n",
      "120\n"
     ]
    }
   ],
   "source": [
    "# 1. Write a Python Program to Find the Factorial of a Number?\n",
    "num1=int(input(\"enter the num\"))\n",
    "fact=1\n",
    "for i in range(1,num1+1):\n",
    "    fact=fact*i\n",
    "print(fact)    \n"
   ]
  },
  {
   "cell_type": "code",
   "execution_count": 6,
   "id": "33589900",
   "metadata": {},
   "outputs": [
    {
     "name": "stdout",
     "output_type": "stream",
     "text": [
      "enter the num67\n",
      "67*1=67\n",
      "67*2=134\n",
      "67*3=201\n",
      "67*4=268\n",
      "67*5=335\n",
      "67*6=402\n",
      "67*7=469\n",
      "67*8=536\n",
      "67*9=603\n",
      "67*10=670\n"
     ]
    }
   ],
   "source": [
    "# 2. Write a Python Program to Display the multiplication Table?\n",
    "num1=int(input(\"enter the num\"))\n",
    "for i in range(1,11):\n",
    "    print(f\"{num1}*{i}={num1*i}\")"
   ]
  },
  {
   "cell_type": "code",
   "execution_count": 8,
   "id": "f98462ad",
   "metadata": {},
   "outputs": [
    {
     "name": "stdout",
     "output_type": "stream",
     "text": [
      "enter the num8\n",
      "0,1,1,2,3,5,8,13,"
     ]
    }
   ],
   "source": [
    "# 3. Write a Python Program to Print the Fibonacci sequence?\n",
    "num1=int(input(\"enter the num\"))\n",
    "first=0\n",
    "second=1\n",
    "i=0\n",
    "while(i<num1):\n",
    "    print(first,end=\",\")\n",
    "    temp=first+second\n",
    "    first=second\n",
    "    second=temp\n",
    "    i=i+1"
   ]
  },
  {
   "cell_type": "code",
   "execution_count": 17,
   "id": "4b5c0ef0",
   "metadata": {},
   "outputs": [
    {
     "name": "stdout",
     "output_type": "stream",
     "text": [
      "enter the num153\n",
      "153\n",
      "yes  armstrong number\n"
     ]
    }
   ],
   "source": [
    "# 4. Write a Python Program to Check Armstrong Number?\n",
    "num1=int(input(\"enter the num\"))\n",
    "ori=num1\n",
    "total=0\n",
    "while(num1>0):\n",
    "    a=num1%10\n",
    "    total=total+(a**3)\n",
    "    num1=num1//10\n",
    "print(total)    \n",
    "if(total==ori):\n",
    "    print(\"yes  armstrong number\")\n",
    "else:\n",
    "    print(\"not a armstrong number\")\n",
    "\n"
   ]
  },
  {
   "cell_type": "code",
   "execution_count": 18,
   "id": "c1a94b60",
   "metadata": {},
   "outputs": [
    {
     "name": "stdout",
     "output_type": "stream",
     "text": [
      "enter the num8\n",
      "\n",
      "0\n",
      "\n",
      "0\n",
      "\n",
      "0\n",
      "\n",
      "0\n",
      "\n",
      "0\n",
      "\n",
      "0\n"
     ]
    }
   ],
   "source": [
    "# 5. Write a Python Program to Find Armstrong Number in an Interval?\n",
    "num1=int(input(\"enter the num\"))\n",
    "for i in range(1,num1):\n",
    "    ori=num1\n",
    "    total=0\n",
    "    while(num1>0):\n",
    "        a=num1%10\n",
    "        total=total+(a**3)\n",
    "        num1=num1//10\n",
    "    if(total==0):\n",
    "        print(\"\")\n",
    "    if(total==ori):\n",
    "        print(total) \n",
    "    "
   ]
  },
  {
   "cell_type": "code",
   "execution_count": null,
   "id": "173b7554",
   "metadata": {},
   "outputs": [],
   "source": [
    "# 6. Write a Python Program to Find the Sum of Natural Numbers?\n",
    "num1=int(input(\"enter the num\"))\n",
    "total=0\n",
    "for i in range(num1+1):\n",
    "    total=total+i\n",
    "print(total)    "
   ]
  }
 ],
 "metadata": {
  "kernelspec": {
   "display_name": "Python 3",
   "language": "python",
   "name": "python3"
  },
  "language_info": {
   "codemirror_mode": {
    "name": "ipython",
    "version": 3
   },
   "file_extension": ".py",
   "mimetype": "text/x-python",
   "name": "python",
   "nbconvert_exporter": "python",
   "pygments_lexer": "ipython3",
   "version": "3.8.8"
  }
 },
 "nbformat": 4,
 "nbformat_minor": 5
}
