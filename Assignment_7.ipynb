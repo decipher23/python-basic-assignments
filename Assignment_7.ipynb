{
 "cells": [
  {
   "cell_type": "code",
   "execution_count": 3,
   "id": "24a2fca1",
   "metadata": {},
   "outputs": [
    {
     "name": "stdout",
     "output_type": "stream",
     "text": [
      "112\n",
      "112\n"
     ]
    }
   ],
   "source": [
    "# 1. Write a Python Program to find sum of array?\n",
    "arr1=[33,4,5,6,55,9]\n",
    "total=0\n",
    "for i in arr1:\n",
    "    total=total+i\n",
    "print(total)    \n",
    "# also\n",
    "print(sum(arr1))"
   ]
  },
  {
   "cell_type": "code",
   "execution_count": 5,
   "id": "4b2c07fb",
   "metadata": {},
   "outputs": [
    {
     "name": "stdout",
     "output_type": "stream",
     "text": [
      "55\n"
     ]
    }
   ],
   "source": [
    "# 2. Write a Python Program to find largest element in an array?\n",
    "arr1=[33,4,5,6,55,9]\n",
    "print(max(arr1))"
   ]
  },
  {
   "cell_type": "code",
   "execution_count": 18,
   "id": "3cc75287",
   "metadata": {},
   "outputs": [
    {
     "name": "stdout",
     "output_type": "stream",
     "text": [
      "[4, 5, 6, 55, 9, 33]\n"
     ]
    }
   ],
   "source": [
    "# 3. Write a Python Program for array rotation?\n",
    "arr1=[33,4,5,6,55,9]\n",
    "n=len(arr1)\n",
    "temp=arr1[0]\n",
    "for i in range(n-1):\n",
    "    arr1[i]=arr1[i+1]\n",
    "arr1[n-1]=temp\n",
    "# arr1[0]=x   \n",
    "print(arr1)\n",
    "    "
   ]
  },
  {
   "cell_type": "code",
   "execution_count": 11,
   "id": "63a04a55",
   "metadata": {},
   "outputs": [
    {
     "name": "stdout",
     "output_type": "stream",
     "text": [
      "[5, 6, 55, 9, 33, 4]\n"
     ]
    }
   ],
   "source": [
    "# 4. Write a Python Program to Split the array and add the first part to the end?\n",
    "arr1=[33,4,5,6,55,9]\n",
    "n=len(arr1)\n",
    "#if we want to split the array with position 2\n",
    "for i in range(0,2):\n",
    "    x = arr1[0]\n",
    "    for j in range(0, n-1):\n",
    "        arr1[j] = arr1[j + 1]\n",
    "\n",
    "    arr1[n-1] = x\n",
    "print(arr1)    "
   ]
  },
  {
   "cell_type": "code",
   "execution_count": 12,
   "id": "ff04e995",
   "metadata": {},
   "outputs": [
    {
     "name": "stdout",
     "output_type": "stream",
     "text": [
      "False\n"
     ]
    }
   ],
   "source": [
    "# 5. Write a Python Program to check if given array is Monotonic?\n",
    "\n",
    "A=[33,4,5,6,55,9]\n",
    "\n",
    "res=(all(A[i] <= A[i + 1] for i in range(len(A) - 1)) or all(A[i] >= A[i + 1] for i in range(len(A) - 1)))\n",
    "print(res)"
   ]
  }
 ],
 "metadata": {
  "kernelspec": {
   "display_name": "Python 3",
   "language": "python",
   "name": "python3"
  },
  "language_info": {
   "codemirror_mode": {
    "name": "ipython",
    "version": 3
   },
   "file_extension": ".py",
   "mimetype": "text/x-python",
   "name": "python",
   "nbconvert_exporter": "python",
   "pygments_lexer": "ipython3",
   "version": "3.8.8"
  }
 },
 "nbformat": 4,
 "nbformat_minor": 5
}
